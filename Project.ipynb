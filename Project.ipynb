{
 "cells": [
  {
   "cell_type": "code",
   "execution_count": 6,
   "id": "52f788aa",
   "metadata": {
    "tags": []
   },
   "outputs": [],
   "source": [
    "import os\n",
    "import numpy as np\n",
    "\n",
    "from PIL import Image\n",
    "\n",
    "from sklearn.model_selection import train_test_split\n",
    "from sklearn.preprocessing import LabelBinarizer\n",
    "\n",
    "import tensorflow as tf\n",
    "from tensorflow.keras import layers, models"
   ]
  },
  {
   "cell_type": "code",
   "execution_count": 7,
   "id": "8191b761",
   "metadata": {
    "tags": []
   },
   "outputs": [],
   "source": [
    "data_dir = \"img\""
   ]
  },
  {
   "cell_type": "code",
   "execution_count": 8,
   "id": "c336ecbe",
   "metadata": {
    "tags": []
   },
   "outputs": [],
   "source": [
    "X = []\n",
    "Y = []\n",
    "for digit in range(10):\n",
    "    digit_dir = os.path.join(data_dir, str(digit))\n",
    "    for img_file in os.listdir(digit_dir):\n",
    "        image = Image.open(os.path.join(digit_dir, img_file))\n",
    "        image = image.resize((64, 64))\n",
    "        image = image.convert(\"L\")\n",
    "        image = np.array(image) / 255.0  \n",
    "        X.append(image)\n",
    "        Y.append(digit)\n",
    "\n",
    "X = np.array(X)\n",
    "Y = np.array(Y)"
   ]
  },
  {
   "cell_type": "code",
   "execution_count": 9,
   "id": "f7ab2d5a",
   "metadata": {
    "tags": []
   },
   "outputs": [
    {
     "name": "stdout",
     "output_type": "stream",
     "text": [
      "(960, 64, 64)\n",
      "(960,)\n"
     ]
    }
   ],
   "source": [
    "print(X.shape)\n",
    "print(Y.shape)"
   ]
  },
  {
   "cell_type": "code",
   "execution_count": 10,
   "id": "cdd7da11",
   "metadata": {},
   "outputs": [],
   "source": [
    "X_train, X_test, Y_train, Y_test = train_test_split(X, Y, test_size=0.2, random_state=42)"
   ]
  },
  {
   "cell_type": "code",
   "execution_count": 11,
   "id": "3f08fc3f",
   "metadata": {},
   "outputs": [],
   "source": [
    "label_binarizer = LabelBinarizer()"
   ]
  },
  {
   "cell_type": "code",
   "execution_count": 12,
   "id": "4d3cd766",
   "metadata": {},
   "outputs": [],
   "source": [
    "Y_train = label_binarizer.fit_transform(Y_train)\n",
    "Y_test = label_binarizer.transform(Y_test)"
   ]
  },
  {
   "cell_type": "code",
   "execution_count": 13,
   "id": "0242bc94",
   "metadata": {},
   "outputs": [],
   "source": [
    "# CNN Model\n",
    "model = models.Sequential([\n",
    "    layers.Conv2D(32, (3, 3), activation='relu', input_shape=(64, 64, 1)),\n",
    "    layers.MaxPooling2D((2, 2)),\n",
    "    layers.Flatten(),\n",
    "    layers.Dense(128, activation='relu'),\n",
    "    layers.Dense(10, activation='softmax')\n",
    "])"
   ]
  },
  {
   "cell_type": "code",
   "execution_count": 14,
   "id": "c1845357",
   "metadata": {},
   "outputs": [],
   "source": [
    "model.compile(optimizer='adam',\n",
    "              loss='categorical_crossentropy',\n",
    "              metrics=['accuracy'])"
   ]
  },
  {
   "cell_type": "code",
   "execution_count": 15,
   "id": "bc379696",
   "metadata": {},
   "outputs": [
    {
     "name": "stdout",
     "output_type": "stream",
     "text": [
      "Epoch 1/10\n",
      "24/24 [==============================] - 3s 75ms/step - loss: 2.6939 - accuracy: 0.3112 - val_loss: 1.4052 - val_accuracy: 0.6979\n",
      "Epoch 2/10\n",
      "24/24 [==============================] - 1s 60ms/step - loss: 0.7171 - accuracy: 0.9154 - val_loss: 0.3312 - val_accuracy: 0.9583\n",
      "Epoch 3/10\n",
      "24/24 [==============================] - 1s 62ms/step - loss: 0.1469 - accuracy: 0.9870 - val_loss: 0.1470 - val_accuracy: 0.9583\n",
      "Epoch 4/10\n",
      "24/24 [==============================] - 2s 70ms/step - loss: 0.0513 - accuracy: 0.9974 - val_loss: 0.0979 - val_accuracy: 0.9740\n",
      "Epoch 5/10\n",
      "24/24 [==============================] - 2s 70ms/step - loss: 0.0248 - accuracy: 1.0000 - val_loss: 0.0853 - val_accuracy: 0.9792\n",
      "Epoch 6/10\n",
      "24/24 [==============================] - 2s 65ms/step - loss: 0.0158 - accuracy: 1.0000 - val_loss: 0.0660 - val_accuracy: 0.9948\n",
      "Epoch 7/10\n",
      "24/24 [==============================] - 1s 62ms/step - loss: 0.0112 - accuracy: 1.0000 - val_loss: 0.0659 - val_accuracy: 0.9844\n",
      "Epoch 8/10\n",
      "24/24 [==============================] - 1s 60ms/step - loss: 0.0084 - accuracy: 1.0000 - val_loss: 0.0581 - val_accuracy: 0.9844\n",
      "Epoch 9/10\n",
      "24/24 [==============================] - 2s 65ms/step - loss: 0.0065 - accuracy: 1.0000 - val_loss: 0.0544 - val_accuracy: 0.9896\n",
      "Epoch 10/10\n",
      "24/24 [==============================] - 2s 62ms/step - loss: 0.0052 - accuracy: 1.0000 - val_loss: 0.0513 - val_accuracy: 0.9896\n"
     ]
    },
    {
     "data": {
      "text/plain": [
       "<keras.src.callbacks.History at 0x264074d33d0>"
      ]
     },
     "execution_count": 15,
     "metadata": {},
     "output_type": "execute_result"
    }
   ],
   "source": [
    "model.fit(X_train, Y_train, epochs=10, validation_data=(X_test, Y_test))"
   ]
  },
  {
   "cell_type": "code",
   "execution_count": 16,
   "id": "5677e9fd",
   "metadata": {},
   "outputs": [
    {
     "name": "stdout",
     "output_type": "stream",
     "text": [
      "6/6 [==============================] - 0s 13ms/step - loss: 0.0513 - accuracy: 0.9896\n",
      "Test accuracy: 0.9895833134651184\n"
     ]
    }
   ],
   "source": [
    "test_loss, test_acc = model.evaluate(X_test, Y_test)\n",
    "print(f\"Test accuracy: {test_acc}\")"
   ]
  },
  {
   "cell_type": "code",
   "execution_count": null,
   "id": "8b169d97",
   "metadata": {},
   "outputs": [],
   "source": []
  },
  {
   "cell_type": "code",
   "execution_count": 17,
   "id": "6bc567dd",
   "metadata": {},
   "outputs": [
    {
     "name": "stdout",
     "output_type": "stream",
     "text": [
      "1/1 [==============================] - 0s 143ms/step\n",
      "Predicted Digit: 8\n"
     ]
    }
   ],
   "source": [
    "# Load and preprocess the test image\n",
    "test_image_path = \"img/8/55.png\"\n",
    "test_image = Image.open(test_image_path)\n",
    "test_image = test_image.resize((64, 64))\n",
    "test_image = test_image.convert(\"L\")\n",
    "test_image = np.array(test_image) / 255.0\n",
    "test_image = np.expand_dims(test_image, 0)\n",
    "\n",
    "# Make predictions\n",
    "predictions = model.predict(test_image)\n",
    "predicted_digit = np.argmax(predictions)\n",
    "\n",
    "print(\"Predicted Digit:\", predicted_digit)"
   ]
  },
  {
   "cell_type": "code",
   "execution_count": 18,
   "id": "b21ef247",
   "metadata": {},
   "outputs": [],
   "source": [
    "import pickle\n",
    "pickle_out = open(\"model.pkl\", \"wb\")\n",
    "pickle.dump(model, pickle_out)\n",
    "pickle_out.close()"
   ]
  },
  {
   "cell_type": "code",
   "execution_count": 19,
   "id": "2ce261af",
   "metadata": {},
   "outputs": [
    {
     "name": "stdout",
     "output_type": "stream",
     "text": [
      "INFO:tensorflow:Assets written to: App/model\\assets\n"
     ]
    },
    {
     "name": "stderr",
     "output_type": "stream",
     "text": [
      "INFO:tensorflow:Assets written to: App/model\\assets\n"
     ]
    }
   ],
   "source": [
    "model.save(\"App/model\")"
   ]
  },
  {
   "cell_type": "code",
   "execution_count": null,
   "id": "2762b70a",
   "metadata": {},
   "outputs": [],
   "source": []
  }
 ],
 "metadata": {
  "kernelspec": {
   "display_name": "Python 3 (ipykernel)",
   "language": "python",
   "name": "python3"
  },
  "language_info": {
   "codemirror_mode": {
    "name": "ipython",
    "version": 3
   },
   "file_extension": ".py",
   "mimetype": "text/x-python",
   "name": "python",
   "nbconvert_exporter": "python",
   "pygments_lexer": "ipython3",
   "version": "3.11.4"
  }
 },
 "nbformat": 4,
 "nbformat_minor": 5
}
